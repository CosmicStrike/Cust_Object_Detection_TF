{
 "cells": [
  {
   "cell_type": "markdown",
   "metadata": {},
   "source": [
    "# Download Model"
   ]
  },
  {
   "cell_type": "code",
   "execution_count": 9,
   "metadata": {},
   "outputs": [
    {
     "name": "stdout",
     "output_type": "stream",
     "text": [
      "D:\\CODE_Club\\Custom_ObjD_2\\ProjectFiles\\MyModel\\EfficientDet\\efficientdet_d0_coco17_tpu-32\n"
     ]
    }
   ],
   "source": [
    "model_name = \"efficientdet_d0_coco17_tpu-32\"\n",
    "path = {\n",
    "    \"PreTrain_Model\":\"D:\\\\CODE_Club\\\\Custom_ObjD_2\\\\ProjectFiles\\\\PreTrained_Model\",\n",
    "    \"ModelURL\":\"http://download.tensorflow.org/models/object_detection/tf2/20200711/efficientdet_d0_coco17_tpu-32.tar.gz\",\n",
    "    \"MyModel\":\"D:\\\\CODE_Club\\\\Custom_ObjD_2\\\\ProjectFiles\\\\MyModel\\\\EfficientDet\"\n",
    "}\n",
    "ConfigPath = os.path.join(path[\"MyModel\"],model_name)\n",
    "print(ConfigPath)"
   ]
  },
  {
   "cell_type": "code",
   "execution_count": 10,
   "metadata": {},
   "outputs": [],
   "source": [
    "import wget\n",
    "import tarfile\n",
    "import os"
   ]
  },
  {
   "cell_type": "code",
   "execution_count": 11,
   "metadata": {},
   "outputs": [
    {
     "data": {
      "text/plain": [
       "'D:\\\\CODE_Club\\\\Custom_ObjD_2\\\\ProjectFiles\\\\PreTrained_Model/efficientdet_d0_coco17_tpu-32.tar.gz'"
      ]
     },
     "execution_count": 11,
     "metadata": {},
     "output_type": "execute_result"
    }
   ],
   "source": [
    "wget.download(path[\"ModelURL\"],path[\"PreTrain_Model\"])"
   ]
  },
  {
   "cell_type": "code",
   "execution_count": 6,
   "metadata": {},
   "outputs": [],
   "source": [
    "file = tarfile.open(\"D:\\CODE_Club\\Custom_ObjD_2\\ProjectFiles\\PreTrained_Model\\efficientdet_d0_coco17_tpu-32.tar.gz\")\n",
    "file.extractall(path=path[\"PreTrain_Model\"])\n",
    "file.close()"
   ]
  },
  {
   "cell_type": "markdown",
   "metadata": {},
   "source": [
    "Copy pipline.config to Mymodel.\n",
    " \n",
    "make changes in the pipeline.config file which is copied\n",
    "\n",
    "Changes:\n",
    "\n",
    "All paths mentioned in config file must be with double forward slash\n",
    "\n",
    "batch size = 4 or 6\n",
    "\n",
    "batch size - number of images to take in one iteration/epoch while training \n",
    "               #greater the batch size more ram is required because more imageses will be loaded in ram at once\n",
    "               #mainly 4-2 is sufficient for less ram\n",
    "\n",
    "fine_tune_checkpoint_type = detection \n",
    "\n",
    "copy labelmap, train.records, test.records, checkpoint path accordingly\n",
    "\n",
    "add \\ckpt-0 at end of check point path \n",
    "\n"
   ]
  },
  {
   "cell_type": "code",
   "execution_count": 7,
   "metadata": {},
   "outputs": [],
   "source": [
    "import tensorflow as tf"
   ]
  },
  {
   "cell_type": "code",
   "execution_count": 8,
   "metadata": {},
   "outputs": [
    {
     "name": "stdout",
     "output_type": "stream",
     "text": [
      "Num GPUs Available:  1\n",
      "[PhysicalDevice(name='/physical_device:GPU:0', device_type='GPU')]\n"
     ]
    }
   ],
   "source": [
    "print(\"Num GPUs Available: \", len(tf.config.list_physical_devices('GPU')))\n",
    "print(tf.config.list_physical_devices('GPU'))"
   ]
  },
  {
   "cell_type": "markdown",
   "metadata": {},
   "source": [
    "\n",
    "To Train the model \n",
    "\n",
    "python ProjectFiles\\PreTrained_Model\\models\\research\\object_detection\\model_main_tf2.py --model_dir=ProjectFiles\\MyModel --pipeline_config_path=ProjectFiles\\MyModel\\pipeline.config --num_train_steps=2000\n",
    "\n",
    "\n",
    "To display performance matrix\n",
    "\n",
    "python ProjectFiles\\PreTrained_Model\\models\\research\\object_detection\\model_main_tf2.py --model_dir=ProjectFiles\\MyModel --pipeline_config_path=ProjectFiles\\MyModel\\pipeline.config --checkpoint_dir=ProjectFiles\\MyModel"
   ]
  },
  {
   "cell_type": "markdown",
   "metadata": {},
   "source": [
    "If multi array or any error related array occurs the do:\n",
    "\n",
    "pip uninstall pycocotools -y\n",
    "\n",
    "pip install pycocotools"
   ]
  }
 ],
 "metadata": {
  "kernelspec": {
   "display_name": "venv",
   "language": "python",
   "name": "venv"
  },
  "language_info": {
   "codemirror_mode": {
    "name": "ipython",
    "version": 3
   },
   "file_extension": ".py",
   "mimetype": "text/x-python",
   "name": "python",
   "nbconvert_exporter": "python",
   "pygments_lexer": "ipython3",
   "version": "3.8.10"
  },
  "orig_nbformat": 4
 },
 "nbformat": 4,
 "nbformat_minor": 2
}
